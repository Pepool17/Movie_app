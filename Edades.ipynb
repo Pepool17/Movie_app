git add .
: [
  {
   "cell_type": "code",
   "execution_count": 56,
   "metadata": {},
   "outputs": [],
   "source": [
    "import pandas as pd\n",
    "import matplotlib.pyplot as plt\n",
    "import seaborn as sns\n",
    "base = pd.read_csv('..\\Data_base\\MoviesOnStreamingPlatforms.csv')"
   ]
  },
  {
   "cell_type": "code",
   "execution_count": 10,
   "metadata": {},
   "outputs": [
    {
     "data": {
      "text/html": [
       "<div>\n",
       "<style scoped>\n",
       "    .dataframe tbody tr th:only-of-type {\n",
       "        vertical-align: middle;\n",
       "    }\n",
       "\n",
       "    .dataframe tbody tr th {\n",
       "        vertical-align: top;\n",
       "    }\n",
       "\n",
       "    .dataframe thead th {\n",
       "        text-align: right;\n",
       "    }\n",
       "</style>\n",
       "<table border=\"1\" class=\"dataframe\">\n",
       "  <thead>\n",
       "    <tr style=\"text-align: right;\">\n",
       "      <th></th>\n",
       "      <th>Unnamed: 0</th>\n",
       "      <th>ID</th>\n",
       "      <th>Title</th>\n",
       "      <th>Year</th>\n",
       "      <th>Age</th>\n",
       "      <th>Rotten Tomatoes</th>\n",
       "      <th>Netflix</th>\n",
       "      <th>Hulu</th>\n",
       "      <th>Prime Video</th>\n",
       "      <th>Disney+</th>\n",
       "      <th>Type</th>\n",
       "    </tr>\n",
       "  </thead>\n",
       "  <tbody>\n",
       "    <tr>\n",
       "      <th>0</th>\n",
       "      <td>0</td>\n",
       "      <td>1</td>\n",
       "      <td>The Irishman</td>\n",
       "      <td>2019</td>\n",
       "      <td>18+</td>\n",
       "      <td>98/100</td>\n",
       "      <td>1</td>\n",
       "      <td>0</td>\n",
       "      <td>0</td>\n",
       "      <td>0</td>\n",
       "      <td>0</td>\n",
       "    </tr>\n",
       "    <tr>\n",
       "      <th>1</th>\n",
       "      <td>1</td>\n",
       "      <td>2</td>\n",
       "      <td>Dangal</td>\n",
       "      <td>2016</td>\n",
       "      <td>7+</td>\n",
       "      <td>97/100</td>\n",
       "      <td>1</td>\n",
       "      <td>0</td>\n",
       "      <td>0</td>\n",
       "      <td>0</td>\n",
       "      <td>0</td>\n",
       "    </tr>\n",
       "    <tr>\n",
       "      <th>2</th>\n",
       "      <td>2</td>\n",
       "      <td>3</td>\n",
       "      <td>David Attenborough: A Life on Our Planet</td>\n",
       "      <td>2020</td>\n",
       "      <td>7+</td>\n",
       "      <td>95/100</td>\n",
       "      <td>1</td>\n",
       "      <td>0</td>\n",
       "      <td>0</td>\n",
       "      <td>0</td>\n",
       "      <td>0</td>\n",
       "    </tr>\n",
       "    <tr>\n",
       "      <th>3</th>\n",
       "      <td>3</td>\n",
       "      <td>4</td>\n",
       "      <td>Lagaan: Once Upon a Time in India</td>\n",
       "      <td>2001</td>\n",
       "      <td>7+</td>\n",
       "      <td>94/100</td>\n",
       "      <td>1</td>\n",
       "      <td>0</td>\n",
       "      <td>0</td>\n",
       "      <td>0</td>\n",
       "      <td>0</td>\n",
       "    </tr>\n",
       "    <tr>\n",
       "      <th>4</th>\n",
       "      <td>4</td>\n",
       "      <td>5</td>\n",
       "      <td>Roma</td>\n",
       "      <td>2018</td>\n",
       "      <td>18+</td>\n",
       "      <td>94/100</td>\n",
       "      <td>1</td>\n",
       "      <td>0</td>\n",
       "      <td>0</td>\n",
       "      <td>0</td>\n",
       "      <td>0</td>\n",
       "    </tr>\n",
       "  </tbody>\n",
       "</table>\n",
       "</div>"
      ],
      "text/plain": [
       "   Unnamed: 0  ID                                     Title  Year  Age  \\\n",
       "0           0   1                              The Irishman  2019  18+   \n",
       "1           1   2                                    Dangal  2016   7+   \n",
       "2           2   3  David Attenborough: A Life on Our Planet  2020   7+   \n",
       "3           3   4         Lagaan: Once Upon a Time in India  2001   7+   \n",
       "4           4   5                                      Roma  2018  18+   \n",
       "\n",
       "  Rotten Tomatoes  Netflix  Hulu  Prime Video  Disney+  Type  \n",
       "0          98/100        1     0            0        0     0  \n",
       "1          97/100        1     0            0        0     0  \n",
       "2          95/100        1     0            0        0     0  \n",
       "3          94/100        1     0            0        0     0  \n",
       "4          94/100        1     0            0        0     0  "
      ]
     },
     "execution_count": 10,
     "metadata": {},
     "output_type": "execute_result"
    }
   ],
   "source": [
    "base.head()"
   ]
  },
  {
   "cell_type": "markdown",
   "metadata": {},
   "source": [
    "## Analisis de la data"
   ]
  },
  {
   "cell_type": "code",
   "execution_count": 93,
   "metadata": {},
   "outputs": [
    {
     "data": {
      "image/png": "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",
      "text/plain": [
       "<Figure size 800x600 with 1 Axes>"
      ]
     },
     "metadata": {},
     "output_type": "display_data"
    }
   ],
   "source": [
    "year = 1999\n",
    "base_filtrada_year = base[base['Year']==year]\n",
    "\n",
    "cantidad_year = base_filtrada_year.groupby(by='Age').count()[['ID']].reset_index()\n",
    "cantidad_year.columns = ['Age','Amount']\n",
    "cantidad_year\n",
    "\n",
    "# Crear el gráfico de barras usando Matplotlib\n",
    "plt.figure(figsize=(8, 6))  # Configura el tamaño del gráfico\n",
    "plt.bar(cantidad_year['Age'], cantidad_year['Amount'], color='lightblue')  # Crea barras\n",
    "\n",
    "# Añadiendo título y etiquetas\n",
    "plt.title('Cantidad por Edad en el Año 1999')\n",
    "plt.xlabel('Edad')\n",
    "plt.ylabel('Cantidad')\n",
    "\n",
    "# Mostrar valores en las barras\n",
    "for i, v in enumerate(cantidad_year['Amount']):\n",
    "    plt.text(i, v + 0.2, str(v), ha='center', va='bottom')\n",
    "\n",
    "# Mostrar el gráfico\n",
    "plt.savefig('..\\imagenes\\histogram_age_year.png')\n",
    "plt.show()"
   ]
  },
  {
   "cell_type": "markdown",
   "metadata": {},
   "source": [
    "### Top 10 por años"
   ]
  },
  {
   "cell_type": "code",
   "execution_count": 85,
   "metadata": {},
   "outputs": [
    {
     "data": {
      "text/html": [
       "<div>\n",
       "<style scoped>\n",
       "    .dataframe tbody tr th:only-of-type {\n",
       "        vertical-align: middle;\n",
       "    }\n",
       "\n",
       "    .dataframe tbody tr th {\n",
       "        vertical-align: top;\n",
       "    }\n",
       "\n",
       "    .dataframe thead th {\n",
       "        text-align: right;\n",
       "    }\n",
       "</style>\n",
       "<table border=\"1\" class=\"dataframe\">\n",
       "  <thead>\n",
       "    <tr style=\"text-align: right;\">\n",
       "      <th></th>\n",
       "      <th>Title</th>\n",
       "      <th>Ranking</th>\n",
       "    </tr>\n",
       "  </thead>\n",
       "  <tbody>\n",
       "    <tr>\n",
       "      <th>8619</th>\n",
       "      <td>Star Wars: The Empire Strikes Back</td>\n",
       "      <td>89</td>\n",
       "    </tr>\n",
       "    <tr>\n",
       "      <th>4747</th>\n",
       "      <td>The Elephant Man</td>\n",
       "      <td>80</td>\n",
       "    </tr>\n",
       "    <tr>\n",
       "      <th>3776</th>\n",
       "      <td>Caddyshack</td>\n",
       "      <td>76</td>\n",
       "    </tr>\n",
       "    <tr>\n",
       "      <th>813</th>\n",
       "      <td>The Long Riders</td>\n",
       "      <td>65</td>\n",
       "    </tr>\n",
       "    <tr>\n",
       "      <th>5316</th>\n",
       "      <td>Motel Hell</td>\n",
       "      <td>62</td>\n",
       "    </tr>\n",
       "    <tr>\n",
       "      <th>5473</th>\n",
       "      <td>Bon Voyage, Charlie Brown (and Don't Come Back!)</td>\n",
       "      <td>60</td>\n",
       "    </tr>\n",
       "    <tr>\n",
       "      <th>1406</th>\n",
       "      <td>Return to the 36th Chamber</td>\n",
       "      <td>58</td>\n",
       "    </tr>\n",
       "    <tr>\n",
       "      <th>5633</th>\n",
       "      <td>Clan of the White Lotus</td>\n",
       "      <td>58</td>\n",
       "    </tr>\n",
       "    <tr>\n",
       "      <th>5654</th>\n",
       "      <td>The Big Brawl</td>\n",
       "      <td>58</td>\n",
       "    </tr>\n",
       "    <tr>\n",
       "      <th>5663</th>\n",
       "      <td>The Jazz Singer</td>\n",
       "      <td>57</td>\n",
       "    </tr>\n",
       "  </tbody>\n",
       "</table>\n",
       "</div>"
      ],
      "text/plain": [
       "                                                 Title  Ranking\n",
       "8619                Star Wars: The Empire Strikes Back       89\n",
       "4747                                  The Elephant Man       80\n",
       "3776                                        Caddyshack       76\n",
       "813                                    The Long Riders       65\n",
       "5316                                        Motel Hell       62\n",
       "5473  Bon Voyage, Charlie Brown (and Don't Come Back!)       60\n",
       "1406                        Return to the 36th Chamber       58\n",
       "5633                           Clan of the White Lotus       58\n",
       "5654                                     The Big Brawl       58\n",
       "5663                                   The Jazz Singer       57"
      ]
     },
     "execution_count": 85,
     "metadata": {},
     "output_type": "execute_result"
    }
   ],
   "source": [
    "base['Ranking'] =  base['Rotten Tomatoes'].fillna('0').apply(lambda x: x[:3]).str.replace('/', '').astype(int)\n",
    "year = 1980\n",
    "base_filtrada_year = base[base['Year']==year]\n",
    "base_filtrada_year[['Title', 'Ranking']].sort_values(by= \"Ranking\", ascending=False).head(10)"
   ]
  },
  {
   "cell_type": "code",
   "execution_count": null,
   "metadata": {},
   "outputs": [],
   "source": []
  },
  {
   "cell_type": "markdown",
   "metadata": {},
   "source": [
    "### Cantidad por plataforma"
   ]
  },
  {
   "cell_type": "code",
   "execution_count": 63,
   "metadata": {},
   "outputs": [],
   "source": [
    "year = 1980\n",
    "df_plataforma = pd.DataFrame(base_filtrada_year[['Netflix','Hulu','Prime Video','Disney+']].sum(), columns = ['count'])\n",
    "df_plataforma"
   ]
  },
  {
   "cell_type": "code",
   "execution_count": 84,
   "metadata": {},
   "outputs": [
    {
     "data": {
      "image/png": "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",
      "text/plain": [
       "<Figure size 400x400 with 1 Axes>"
      ]
     },
     "metadata": {},
     "output_type": "display_data"
    }
   ],
   "source": [
    "fig, ax = plt.subplots(figsize=(4, 4))\n",
    "total = df_plataforma['count'].sum()\n",
    "\n",
    "# Dibuja el gráfico de donut\n",
    "ax.pie(df_plataforma['count'], labels=df_plataforma.index, autopct=lambda p: '{:.1f}%'.format(p * total / 100), pctdistance=0.80)\n",
    "centre_circle = plt.Circle((0, 0), 0.60, fc='white')\n",
    "ax.add_artist(centre_circle)\n",
    "ax.axis('equal')\n",
    "ax.set_title(f'Películas en {year}')\n",
    "\n",
    "# Agrega etiquetas y personalizaciones\n",
    "ax.set_xlabel('')\n",
    "ax.set_ylabel('')\n",
    "plt.tight_layout()\n",
    "plt.savefig('..\\imagenes\\peliculas.png', dpi=300)\n",
    "plt.show()"
   ]
  },
  {
   "cell_type": "code",
   "execution_count": null,
   "metadata": {},
   "outputs": [],
   "source": []
  }
 ],
 "metadata": {
  "kernelspec": {
   "display_name": "venv",
   "language": "python",
   "name": "python3"
  },
  "language_info": {
   "codemirror_mode": {
    "name": "ipython",
    "version": 3
   },
   "file_extension": ".py",
   "mimetype": "text/x-python",
   "name": "python",
   "nbconvert_exporter": "python",
   "pygments_lexer": "ipython3",
   "version": "3.9.1"
  }
 },
 "nbformat": 4,
 "nbformat_minor": 2
}
